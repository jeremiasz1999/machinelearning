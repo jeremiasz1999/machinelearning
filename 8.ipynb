{
 "cells": [
  {
   "cell_type": "code",
   "execution_count": 21,
   "id": "8e904bc3-0032-4e51-975e-c65e50c44e25",
   "metadata": {},
   "outputs": [],
   "source": [
    "import pandas as pd\n",
    "import numpy as np\n",
    "from ISLP import load_data\n",
    "from sklearn.model_selection import train_test_split\n",
    "from sklearn.svm import SVC\n",
    "from sklearn.preprocessing import StandardScaler\n",
    "from sklearn.metrics import accuracy_score\n",
    "from sklearn.model_selection import GridSearchCV"
   ]
  },
  {
   "cell_type": "code",
   "execution_count": 22,
   "id": "9467a67b-7ff4-4c48-a3ad-2547b1dd90dd",
   "metadata": {},
   "outputs": [],
   "source": [
    "# Load the OJ dataset and split\n",
    "OJ = load_data('OJ')"
   ]
  },
  {
   "cell_type": "code",
   "execution_count": 23,
   "id": "76a0de3c-7f14-47e5-b865-947783de685f",
   "metadata": {},
   "outputs": [
    {
     "data": {
      "text/html": [
       "<div>\n",
       "<style scoped>\n",
       "    .dataframe tbody tr th:only-of-type {\n",
       "        vertical-align: middle;\n",
       "    }\n",
       "\n",
       "    .dataframe tbody tr th {\n",
       "        vertical-align: top;\n",
       "    }\n",
       "\n",
       "    .dataframe thead th {\n",
       "        text-align: right;\n",
       "    }\n",
       "</style>\n",
       "<table border=\"1\" class=\"dataframe\">\n",
       "  <thead>\n",
       "    <tr style=\"text-align: right;\">\n",
       "      <th></th>\n",
       "      <th>Purchase</th>\n",
       "      <th>WeekofPurchase</th>\n",
       "      <th>StoreID</th>\n",
       "      <th>PriceCH</th>\n",
       "      <th>PriceMM</th>\n",
       "      <th>DiscCH</th>\n",
       "      <th>DiscMM</th>\n",
       "      <th>SpecialCH</th>\n",
       "      <th>SpecialMM</th>\n",
       "      <th>LoyalCH</th>\n",
       "      <th>SalePriceMM</th>\n",
       "      <th>SalePriceCH</th>\n",
       "      <th>PriceDiff</th>\n",
       "      <th>Store7</th>\n",
       "      <th>PctDiscMM</th>\n",
       "      <th>PctDiscCH</th>\n",
       "      <th>ListPriceDiff</th>\n",
       "      <th>STORE</th>\n",
       "    </tr>\n",
       "  </thead>\n",
       "  <tbody>\n",
       "    <tr>\n",
       "      <th>0</th>\n",
       "      <td>CH</td>\n",
       "      <td>237</td>\n",
       "      <td>1</td>\n",
       "      <td>1.75</td>\n",
       "      <td>1.99</td>\n",
       "      <td>0.00</td>\n",
       "      <td>0.0</td>\n",
       "      <td>0</td>\n",
       "      <td>0</td>\n",
       "      <td>0.500000</td>\n",
       "      <td>1.99</td>\n",
       "      <td>1.75</td>\n",
       "      <td>0.24</td>\n",
       "      <td>No</td>\n",
       "      <td>0.000000</td>\n",
       "      <td>0.000000</td>\n",
       "      <td>0.24</td>\n",
       "      <td>1</td>\n",
       "    </tr>\n",
       "    <tr>\n",
       "      <th>1</th>\n",
       "      <td>CH</td>\n",
       "      <td>239</td>\n",
       "      <td>1</td>\n",
       "      <td>1.75</td>\n",
       "      <td>1.99</td>\n",
       "      <td>0.00</td>\n",
       "      <td>0.3</td>\n",
       "      <td>0</td>\n",
       "      <td>1</td>\n",
       "      <td>0.600000</td>\n",
       "      <td>1.69</td>\n",
       "      <td>1.75</td>\n",
       "      <td>-0.06</td>\n",
       "      <td>No</td>\n",
       "      <td>0.150754</td>\n",
       "      <td>0.000000</td>\n",
       "      <td>0.24</td>\n",
       "      <td>1</td>\n",
       "    </tr>\n",
       "    <tr>\n",
       "      <th>2</th>\n",
       "      <td>CH</td>\n",
       "      <td>245</td>\n",
       "      <td>1</td>\n",
       "      <td>1.86</td>\n",
       "      <td>2.09</td>\n",
       "      <td>0.17</td>\n",
       "      <td>0.0</td>\n",
       "      <td>0</td>\n",
       "      <td>0</td>\n",
       "      <td>0.680000</td>\n",
       "      <td>2.09</td>\n",
       "      <td>1.69</td>\n",
       "      <td>0.40</td>\n",
       "      <td>No</td>\n",
       "      <td>0.000000</td>\n",
       "      <td>0.091398</td>\n",
       "      <td>0.23</td>\n",
       "      <td>1</td>\n",
       "    </tr>\n",
       "    <tr>\n",
       "      <th>3</th>\n",
       "      <td>MM</td>\n",
       "      <td>227</td>\n",
       "      <td>1</td>\n",
       "      <td>1.69</td>\n",
       "      <td>1.69</td>\n",
       "      <td>0.00</td>\n",
       "      <td>0.0</td>\n",
       "      <td>0</td>\n",
       "      <td>0</td>\n",
       "      <td>0.400000</td>\n",
       "      <td>1.69</td>\n",
       "      <td>1.69</td>\n",
       "      <td>0.00</td>\n",
       "      <td>No</td>\n",
       "      <td>0.000000</td>\n",
       "      <td>0.000000</td>\n",
       "      <td>0.00</td>\n",
       "      <td>1</td>\n",
       "    </tr>\n",
       "    <tr>\n",
       "      <th>4</th>\n",
       "      <td>CH</td>\n",
       "      <td>228</td>\n",
       "      <td>7</td>\n",
       "      <td>1.69</td>\n",
       "      <td>1.69</td>\n",
       "      <td>0.00</td>\n",
       "      <td>0.0</td>\n",
       "      <td>0</td>\n",
       "      <td>0</td>\n",
       "      <td>0.956535</td>\n",
       "      <td>1.69</td>\n",
       "      <td>1.69</td>\n",
       "      <td>0.00</td>\n",
       "      <td>Yes</td>\n",
       "      <td>0.000000</td>\n",
       "      <td>0.000000</td>\n",
       "      <td>0.00</td>\n",
       "      <td>0</td>\n",
       "    </tr>\n",
       "  </tbody>\n",
       "</table>\n",
       "</div>"
      ],
      "text/plain": [
       "  Purchase  WeekofPurchase  StoreID  PriceCH  PriceMM  DiscCH  DiscMM  \\\n",
       "0       CH             237        1     1.75     1.99    0.00     0.0   \n",
       "1       CH             239        1     1.75     1.99    0.00     0.3   \n",
       "2       CH             245        1     1.86     2.09    0.17     0.0   \n",
       "3       MM             227        1     1.69     1.69    0.00     0.0   \n",
       "4       CH             228        7     1.69     1.69    0.00     0.0   \n",
       "\n",
       "   SpecialCH  SpecialMM   LoyalCH  SalePriceMM  SalePriceCH  PriceDiff Store7  \\\n",
       "0          0          0  0.500000         1.99         1.75       0.24     No   \n",
       "1          0          1  0.600000         1.69         1.75      -0.06     No   \n",
       "2          0          0  0.680000         2.09         1.69       0.40     No   \n",
       "3          0          0  0.400000         1.69         1.69       0.00     No   \n",
       "4          0          0  0.956535         1.69         1.69       0.00    Yes   \n",
       "\n",
       "   PctDiscMM  PctDiscCH  ListPriceDiff  STORE  \n",
       "0   0.000000   0.000000           0.24      1  \n",
       "1   0.150754   0.000000           0.24      1  \n",
       "2   0.000000   0.091398           0.23      1  \n",
       "3   0.000000   0.000000           0.00      1  \n",
       "4   0.000000   0.000000           0.00      0  "
      ]
     },
     "execution_count": 23,
     "metadata": {},
     "output_type": "execute_result"
    }
   ],
   "source": [
    "OJ.head()"
   ]
  },
  {
   "cell_type": "code",
   "execution_count": 3,
   "id": "e9ee0612-2282-4323-88da-a294f6818290",
   "metadata": {},
   "outputs": [],
   "source": [
    "# Encode categorical variables\n",
    "OJ_encoded = pd.get_dummies(OJ, drop_first=True)\n",
    "\n",
    "# Separate features and response\n",
    "X = OJ_encoded.drop(columns='Purchase_MM')  # Purchase_MM is 1 if MM, 0 if CH\n",
    "y = OJ_encoded['Purchase_MM']\n",
    "\n",
    "# Split: 800 for training, rest for test\n",
    "X_train, X_test, y_train, y_test = train_test_split(X, y, train_size=800, random_state=42)\n",
    "\n",
    "# Standardize predictors\n",
    "scaler = StandardScaler()\n",
    "X_train_scaled = scaler.fit_transform(X_train)\n",
    "X_test_scaled = scaler.transform(X_test)"
   ]
  },
  {
   "cell_type": "code",
   "execution_count": 26,
   "id": "46341036-ac50-44ab-bd4b-bb4887bc5ecf",
   "metadata": {},
   "outputs": [
    {
     "data": {
      "text/html": [
       "<div>\n",
       "<style scoped>\n",
       "    .dataframe tbody tr th:only-of-type {\n",
       "        vertical-align: middle;\n",
       "    }\n",
       "\n",
       "    .dataframe tbody tr th {\n",
       "        vertical-align: top;\n",
       "    }\n",
       "\n",
       "    .dataframe thead th {\n",
       "        text-align: right;\n",
       "    }\n",
       "</style>\n",
       "<table border=\"1\" class=\"dataframe\">\n",
       "  <thead>\n",
       "    <tr style=\"text-align: right;\">\n",
       "      <th></th>\n",
       "      <th>WeekofPurchase</th>\n",
       "      <th>StoreID</th>\n",
       "      <th>PriceCH</th>\n",
       "      <th>PriceMM</th>\n",
       "      <th>DiscCH</th>\n",
       "      <th>DiscMM</th>\n",
       "      <th>SpecialCH</th>\n",
       "      <th>SpecialMM</th>\n",
       "      <th>LoyalCH</th>\n",
       "      <th>SalePriceMM</th>\n",
       "      <th>SalePriceCH</th>\n",
       "      <th>PriceDiff</th>\n",
       "      <th>PctDiscMM</th>\n",
       "      <th>PctDiscCH</th>\n",
       "      <th>ListPriceDiff</th>\n",
       "      <th>STORE</th>\n",
       "      <th>Purchase_MM</th>\n",
       "      <th>Store7_Yes</th>\n",
       "    </tr>\n",
       "  </thead>\n",
       "  <tbody>\n",
       "    <tr>\n",
       "      <th>0</th>\n",
       "      <td>237</td>\n",
       "      <td>1</td>\n",
       "      <td>1.75</td>\n",
       "      <td>1.99</td>\n",
       "      <td>0.00</td>\n",
       "      <td>0.0</td>\n",
       "      <td>0</td>\n",
       "      <td>0</td>\n",
       "      <td>0.500000</td>\n",
       "      <td>1.99</td>\n",
       "      <td>1.75</td>\n",
       "      <td>0.24</td>\n",
       "      <td>0.000000</td>\n",
       "      <td>0.000000</td>\n",
       "      <td>0.24</td>\n",
       "      <td>1</td>\n",
       "      <td>False</td>\n",
       "      <td>False</td>\n",
       "    </tr>\n",
       "    <tr>\n",
       "      <th>1</th>\n",
       "      <td>239</td>\n",
       "      <td>1</td>\n",
       "      <td>1.75</td>\n",
       "      <td>1.99</td>\n",
       "      <td>0.00</td>\n",
       "      <td>0.3</td>\n",
       "      <td>0</td>\n",
       "      <td>1</td>\n",
       "      <td>0.600000</td>\n",
       "      <td>1.69</td>\n",
       "      <td>1.75</td>\n",
       "      <td>-0.06</td>\n",
       "      <td>0.150754</td>\n",
       "      <td>0.000000</td>\n",
       "      <td>0.24</td>\n",
       "      <td>1</td>\n",
       "      <td>False</td>\n",
       "      <td>False</td>\n",
       "    </tr>\n",
       "    <tr>\n",
       "      <th>2</th>\n",
       "      <td>245</td>\n",
       "      <td>1</td>\n",
       "      <td>1.86</td>\n",
       "      <td>2.09</td>\n",
       "      <td>0.17</td>\n",
       "      <td>0.0</td>\n",
       "      <td>0</td>\n",
       "      <td>0</td>\n",
       "      <td>0.680000</td>\n",
       "      <td>2.09</td>\n",
       "      <td>1.69</td>\n",
       "      <td>0.40</td>\n",
       "      <td>0.000000</td>\n",
       "      <td>0.091398</td>\n",
       "      <td>0.23</td>\n",
       "      <td>1</td>\n",
       "      <td>False</td>\n",
       "      <td>False</td>\n",
       "    </tr>\n",
       "    <tr>\n",
       "      <th>3</th>\n",
       "      <td>227</td>\n",
       "      <td>1</td>\n",
       "      <td>1.69</td>\n",
       "      <td>1.69</td>\n",
       "      <td>0.00</td>\n",
       "      <td>0.0</td>\n",
       "      <td>0</td>\n",
       "      <td>0</td>\n",
       "      <td>0.400000</td>\n",
       "      <td>1.69</td>\n",
       "      <td>1.69</td>\n",
       "      <td>0.00</td>\n",
       "      <td>0.000000</td>\n",
       "      <td>0.000000</td>\n",
       "      <td>0.00</td>\n",
       "      <td>1</td>\n",
       "      <td>True</td>\n",
       "      <td>False</td>\n",
       "    </tr>\n",
       "    <tr>\n",
       "      <th>4</th>\n",
       "      <td>228</td>\n",
       "      <td>7</td>\n",
       "      <td>1.69</td>\n",
       "      <td>1.69</td>\n",
       "      <td>0.00</td>\n",
       "      <td>0.0</td>\n",
       "      <td>0</td>\n",
       "      <td>0</td>\n",
       "      <td>0.956535</td>\n",
       "      <td>1.69</td>\n",
       "      <td>1.69</td>\n",
       "      <td>0.00</td>\n",
       "      <td>0.000000</td>\n",
       "      <td>0.000000</td>\n",
       "      <td>0.00</td>\n",
       "      <td>0</td>\n",
       "      <td>False</td>\n",
       "      <td>True</td>\n",
       "    </tr>\n",
       "  </tbody>\n",
       "</table>\n",
       "</div>"
      ],
      "text/plain": [
       "   WeekofPurchase  StoreID  PriceCH  PriceMM  DiscCH  DiscMM  SpecialCH  \\\n",
       "0             237        1     1.75     1.99    0.00     0.0          0   \n",
       "1             239        1     1.75     1.99    0.00     0.3          0   \n",
       "2             245        1     1.86     2.09    0.17     0.0          0   \n",
       "3             227        1     1.69     1.69    0.00     0.0          0   \n",
       "4             228        7     1.69     1.69    0.00     0.0          0   \n",
       "\n",
       "   SpecialMM   LoyalCH  SalePriceMM  SalePriceCH  PriceDiff  PctDiscMM  \\\n",
       "0          0  0.500000         1.99         1.75       0.24   0.000000   \n",
       "1          1  0.600000         1.69         1.75      -0.06   0.150754   \n",
       "2          0  0.680000         2.09         1.69       0.40   0.000000   \n",
       "3          0  0.400000         1.69         1.69       0.00   0.000000   \n",
       "4          0  0.956535         1.69         1.69       0.00   0.000000   \n",
       "\n",
       "   PctDiscCH  ListPriceDiff  STORE  Purchase_MM  Store7_Yes  \n",
       "0   0.000000           0.24      1        False       False  \n",
       "1   0.000000           0.24      1        False       False  \n",
       "2   0.091398           0.23      1        False       False  \n",
       "3   0.000000           0.00      1         True       False  \n",
       "4   0.000000           0.00      0        False        True  "
      ]
     },
     "execution_count": 26,
     "metadata": {},
     "output_type": "execute_result"
    }
   ],
   "source": [
    "OJ_encoded.head()"
   ]
  },
  {
   "cell_type": "code",
   "execution_count": 27,
   "id": "3a2521d4-5225-4559-b717-ac8d300b8a1f",
   "metadata": {},
   "outputs": [
    {
     "data": {
      "text/plain": [
       "0    False\n",
       "1    False\n",
       "2    False\n",
       "3     True\n",
       "4    False\n",
       "Name: Purchase_MM, dtype: bool"
      ]
     },
     "execution_count": 27,
     "metadata": {},
     "output_type": "execute_result"
    }
   ],
   "source": [
    "y.head()"
   ]
  },
  {
   "cell_type": "code",
   "execution_count": 4,
   "id": "2f8b96d0-c2c2-4ab8-bed0-2354c8046dcd",
   "metadata": {},
   "outputs": [
    {
     "name": "stdout",
     "output_type": "stream",
     "text": [
      "Number of support vectors: 430\n"
     ]
    }
   ],
   "source": [
    "# Fit SVC with linear kernel and C=0.01\n",
    "svc_linear = SVC(kernel='linear', C=0.01)\n",
    "svc_linear.fit(X_train_scaled, y_train)\n",
    "\n",
    "# Number of support vectors\n",
    "n_support_vectors = svc_linear.n_support_.sum()\n",
    "print(\"Number of support vectors:\", n_support_vectors)"
   ]
  },
  {
   "cell_type": "code",
   "execution_count": 5,
   "id": "bf828168-f21c-4f87-90c6-f441b23f9e48",
   "metadata": {},
   "outputs": [
    {
     "name": "stdout",
     "output_type": "stream",
     "text": [
      "Training error rate: 0.1600\n",
      "Test error rate: 0.1963\n"
     ]
    }
   ],
   "source": [
    "# Predict on training and test sets\n",
    "train_preds = svc_linear.predict(X_train_scaled)\n",
    "test_preds = svc_linear.predict(X_test_scaled)\n",
    "\n",
    "# Compute error rates\n",
    "train_error = 1 - accuracy_score(y_train, train_preds)\n",
    "test_error = 1 - accuracy_score(y_test, test_preds)\n",
    "\n",
    "print(f\"Training error rate: {train_error:.4f}\")\n",
    "print(f\"Test error rate: {test_error:.4f}\")"
   ]
  },
  {
   "cell_type": "code",
   "execution_count": 6,
   "id": "f3fe5bb7-874e-48a1-bfda-314bee6b8551",
   "metadata": {},
   "outputs": [
    {
     "name": "stdout",
     "output_type": "stream",
     "text": [
      "Optimal C from cross-validation: 0.021544346900318832\n"
     ]
    }
   ],
   "source": [
    "# Range of C values to search\n",
    "C_values = {'C': np.logspace(-2, 1, 10)}  # From 0.01 to 10\n",
    "\n",
    "# Grid search with 10-fold CV\n",
    "grid_search = GridSearchCV(SVC(kernel='linear'), C_values, cv=10)\n",
    "grid_search.fit(X_train_scaled, y_train)\n",
    "\n",
    "# Best C found\n",
    "best_C = grid_search.best_params_['C']\n",
    "print(f\"Optimal C from cross-validation: {best_C}\")"
   ]
  },
  {
   "cell_type": "code",
   "execution_count": 7,
   "id": "8f76b381-4cc7-4910-aff0-d5db744a2780",
   "metadata": {},
   "outputs": [
    {
     "name": "stdout",
     "output_type": "stream",
     "text": [
      "Training error rate with best C (0.021544346900318832): 0.1538\n",
      "Test error rate with best C (0.021544346900318832): 0.2000\n"
     ]
    }
   ],
   "source": [
    "# Refit SVC with optimal C\n",
    "svc_best_linear = SVC(kernel='linear', C=best_C)\n",
    "svc_best_linear.fit(X_train_scaled, y_train)\n",
    "\n",
    "# Predict and compute error rates\n",
    "train_preds_best = svc_best_linear.predict(X_train_scaled)\n",
    "test_preds_best = svc_best_linear.predict(X_test_scaled)\n",
    "\n",
    "train_error_best = 1 - accuracy_score(y_train, train_preds_best)\n",
    "test_error_best = 1 - accuracy_score(y_test, test_preds_best)\n",
    "\n",
    "print(f\"Training error rate with best C ({best_C}): {train_error_best:.4f}\")\n",
    "print(f\"Test error rate with best C ({best_C}): {test_error_best:.4f}\")"
   ]
  },
  {
   "cell_type": "markdown",
   "id": "9be4aef0-72a6-43e6-9f57-974665e86b7c",
   "metadata": {},
   "source": [
    "**F:**"
   ]
  },
  {
   "cell_type": "code",
   "execution_count": 8,
   "id": "fe5b78c8-250f-45a0-8fa1-9b02fea6f851",
   "metadata": {},
   "outputs": [
    {
     "name": "stdout",
     "output_type": "stream",
     "text": [
      "Number of support vectors (RBF, C=0.01): 617\n"
     ]
    }
   ],
   "source": [
    "# RBF kernel SVM with C = 0.01\n",
    "svc_rbf = SVC(kernel='rbf', C=0.01)\n",
    "svc_rbf.fit(X_train_scaled, y_train)\n",
    "\n",
    "# Number of support vectors\n",
    "n_support_rbf = svc_rbf.n_support_.sum()\n",
    "print(\"Number of support vectors (RBF, C=0.01):\", n_support_rbf)\n"
   ]
  },
  {
   "cell_type": "code",
   "execution_count": 9,
   "id": "fb701d05-6750-4105-a178-6d5d006c3f2e",
   "metadata": {},
   "outputs": [
    {
     "name": "stdout",
     "output_type": "stream",
     "text": [
      "Training error (RBF, C=0.01): 0.3825\n",
      "Test error (RBF, C=0.01): 0.4111\n"
     ]
    }
   ],
   "source": [
    "train_preds_rbf = svc_rbf.predict(X_train_scaled)\n",
    "test_preds_rbf = svc_rbf.predict(X_test_scaled)\n",
    "\n",
    "train_error_rbf = 1 - accuracy_score(y_train, train_preds_rbf)\n",
    "test_error_rbf = 1 - accuracy_score(y_test, test_preds_rbf)\n",
    "\n",
    "print(f\"Training error (RBF, C=0.01): {train_error_rbf:.4f}\")\n",
    "print(f\"Test error (RBF, C=0.01): {test_error_rbf:.4f}\")\n"
   ]
  },
  {
   "cell_type": "code",
   "execution_count": 10,
   "id": "724af42e-a757-445b-9681-75649c2e9cd0",
   "metadata": {},
   "outputs": [
    {
     "name": "stdout",
     "output_type": "stream",
     "text": [
      "Optimal C for RBF kernel: 0.46415888336127775\n"
     ]
    }
   ],
   "source": [
    "grid_rbf = GridSearchCV(SVC(kernel='rbf'), C_values, cv=10)\n",
    "grid_rbf.fit(X_train_scaled, y_train)\n",
    "\n",
    "best_C_rbf = grid_rbf.best_params_['C']\n",
    "print(f\"Optimal C for RBF kernel: {best_C_rbf}\")\n"
   ]
  },
  {
   "cell_type": "code",
   "execution_count": 11,
   "id": "1b1237ee-cbca-47f2-942b-0ab2ce08a37f",
   "metadata": {},
   "outputs": [
    {
     "name": "stdout",
     "output_type": "stream",
     "text": [
      "Training error (RBF, best C=0.46415888336127775): 0.1500\n",
      "Test error (RBF, best C=0.46415888336127775): 0.1926\n"
     ]
    }
   ],
   "source": [
    "svc_best_rbf = SVC(kernel='rbf', C=best_C_rbf)\n",
    "svc_best_rbf.fit(X_train_scaled, y_train)\n",
    "\n",
    "train_preds_best_rbf = svc_best_rbf.predict(X_train_scaled)\n",
    "test_preds_best_rbf = svc_best_rbf.predict(X_test_scaled)\n",
    "\n",
    "train_error_best_rbf = 1 - accuracy_score(y_train, train_preds_best_rbf)\n",
    "test_error_best_rbf = 1 - accuracy_score(y_test, test_preds_best_rbf)\n",
    "\n",
    "print(f\"Training error (RBF, best C={best_C_rbf}): {train_error_best_rbf:.4f}\")\n",
    "print(f\"Test error (RBF, best C={best_C_rbf}): {test_error_best_rbf:.4f}\")\n"
   ]
  },
  {
   "cell_type": "markdown",
   "id": "564b3130-c6a2-4b6b-bffd-f72e7350adf2",
   "metadata": {},
   "source": [
    "**G:**"
   ]
  },
  {
   "cell_type": "code",
   "execution_count": 12,
   "id": "01abd944-bde0-4ebd-9729-e84ef088f1db",
   "metadata": {},
   "outputs": [
    {
     "name": "stdout",
     "output_type": "stream",
     "text": [
      "Number of support vectors (Poly, C=0.01): 618\n"
     ]
    }
   ],
   "source": [
    "# Polynomial kernel SVM with degree=2 and C=0.01\n",
    "svc_poly = SVC(kernel='poly', degree=2, C=0.01)\n",
    "svc_poly.fit(X_train_scaled, y_train)\n",
    "\n",
    "# Number of support vectors\n",
    "n_support_poly = svc_poly.n_support_.sum()\n",
    "print(\"Number of support vectors (Poly, C=0.01):\", n_support_poly)\n"
   ]
  },
  {
   "cell_type": "code",
   "execution_count": 13,
   "id": "e6c40ad1-e1a6-4622-ba47-d512ca35e8b3",
   "metadata": {},
   "outputs": [
    {
     "name": "stdout",
     "output_type": "stream",
     "text": [
      "Training error (Poly, C=0.01): 0.3675\n",
      "Test error (Poly, C=0.01): 0.4074\n"
     ]
    }
   ],
   "source": [
    "train_preds_poly = svc_poly.predict(X_train_scaled)\n",
    "test_preds_poly = svc_poly.predict(X_test_scaled)\n",
    "\n",
    "train_error_poly = 1 - accuracy_score(y_train, train_preds_poly)\n",
    "test_error_poly = 1 - accuracy_score(y_test, test_preds_poly)\n",
    "\n",
    "print(f\"Training error (Poly, C=0.01): {train_error_poly:.4f}\")\n",
    "print(f\"Test error (Poly, C=0.01): {test_error_poly:.4f}\")\n"
   ]
  },
  {
   "cell_type": "code",
   "execution_count": 14,
   "id": "90d89664-65d2-4db4-b2df-4cac41752789",
   "metadata": {},
   "outputs": [
    {
     "name": "stdout",
     "output_type": "stream",
     "text": [
      "Optimal C for Polynomial kernel: 4.6415888336127775\n"
     ]
    }
   ],
   "source": [
    "grid_poly = GridSearchCV(SVC(kernel='poly', degree=2), C_values, cv=10)\n",
    "grid_poly.fit(X_train_scaled, y_train)\n",
    "\n",
    "best_C_poly = grid_poly.best_params_['C']\n",
    "print(f\"Optimal C for Polynomial kernel: {best_C_poly}\")\n"
   ]
  },
  {
   "cell_type": "code",
   "execution_count": 15,
   "id": "221e6c07-8edc-46ea-8471-49adf7ae49f5",
   "metadata": {},
   "outputs": [
    {
     "name": "stdout",
     "output_type": "stream",
     "text": [
      "Training error (Poly, best C=4.6415888336127775): 0.2037\n",
      "Test error (Poly, best C=4.6415888336127775): 0.2593\n"
     ]
    }
   ],
   "source": [
    "svc_best_poly = SVC(kernel='poly', degree=2, C=best_C_poly)\n",
    "svc_best_poly.fit(X_train_scaled, y_train)\n",
    "\n",
    "train_preds_best_poly = svc_best_poly.predict(X_train_scaled)\n",
    "test_preds_best_poly = svc_best_poly.predict(X_test_scaled)\n",
    "\n",
    "train_error_best_poly = 1 - accuracy_score(y_train, train_preds_best_poly)\n",
    "test_error_best_poly = 1 - accuracy_score(y_test, test_preds_best_poly)\n",
    "\n",
    "print(f\"Training error (Poly, best C={best_C_poly}): {train_error_best_poly:.4f}\")\n",
    "print(f\"Test error (Poly, best C={best_C_poly}): {test_error_best_poly:.4f}\")\n"
   ]
  },
  {
   "cell_type": "code",
   "execution_count": 16,
   "id": "60306dd6-69b7-4ff7-ad7b-4684ec66024f",
   "metadata": {},
   "outputs": [
    {
     "name": "stdout",
     "output_type": "stream",
     "text": [
      "🔍 Final Comparison of SVM Models:\n",
      "\n",
      "Linear Kernel:\n",
      "  Best C: 0.021544346900318832\n",
      "  Test Error Rate: 0.2000\n",
      "\n",
      "RBF Kernel:\n",
      "  Best C: 0.46415888336127775\n",
      "  Test Error Rate: 0.1926\n",
      "\n",
      "Polynomial Kernel (degree=2):\n",
      "  Best C: 4.6415888336127775\n",
      "  Test Error Rate: 0.2593\n",
      "\n"
     ]
    }
   ],
   "source": [
    "print(\"🔍 Final Comparison of SVM Models:\\n\")\n",
    "\n",
    "print(f\"Linear Kernel:\")\n",
    "print(f\"  Best C: {best_C}\")\n",
    "print(f\"  Test Error Rate: {test_error_best:.4f}\\n\")\n",
    "\n",
    "print(f\"RBF Kernel:\")\n",
    "print(f\"  Best C: {best_C_rbf}\")\n",
    "print(f\"  Test Error Rate: {test_error_best_rbf:.4f}\\n\")\n",
    "\n",
    "print(f\"Polynomial Kernel (degree=2):\")\n",
    "print(f\"  Best C: {best_C_poly}\")\n",
    "print(f\"  Test Error Rate: {test_error_best_poly:.4f}\\n\")\n"
   ]
  },
  {
   "cell_type": "code",
   "execution_count": null,
   "id": "d8d637e8-a5c8-481a-9abc-d0e25cddab5b",
   "metadata": {},
   "outputs": [],
   "source": []
  }
 ],
 "metadata": {
  "kernelspec": {
   "display_name": "Python 3 (ipykernel)",
   "language": "python",
   "name": "python3"
  },
  "language_info": {
   "codemirror_mode": {
    "name": "ipython",
    "version": 3
   },
   "file_extension": ".py",
   "mimetype": "text/x-python",
   "name": "python",
   "nbconvert_exporter": "python",
   "pygments_lexer": "ipython3",
   "version": "3.12.6"
  }
 },
 "nbformat": 4,
 "nbformat_minor": 5
}
